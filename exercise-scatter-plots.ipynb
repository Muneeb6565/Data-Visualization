{
 "cells": [
  {
   "cell_type": "markdown",
   "id": "1ab3c096",
   "metadata": {
    "papermill": {
     "duration": 0.010961,
     "end_time": "2022-12-28T14:40:02.279145",
     "exception": false,
     "start_time": "2022-12-28T14:40:02.268184",
     "status": "completed"
    },
    "tags": []
   },
   "source": [
    "**This notebook is an exercise in the [Data Visualization](https://www.kaggle.com/learn/data-visualization) course.  You can reference the tutorial at [this link](https://www.kaggle.com/alexisbcook/scatter-plots).**\n",
    "\n",
    "---\n"
   ]
  },
  {
   "cell_type": "markdown",
   "id": "c6253326",
   "metadata": {
    "papermill": {
     "duration": 0.008949,
     "end_time": "2022-12-28T14:40:02.297902",
     "exception": false,
     "start_time": "2022-12-28T14:40:02.288953",
     "status": "completed"
    },
    "tags": []
   },
   "source": [
    "In this exercise, you will use your new knowledge to propose a solution to a real-world scenario.  To succeed, you will need to import data into Python, answer questions using the data, and generate **scatter plots** to understand patterns in the data.\n",
    "\n",
    "## Scenario\n",
    "\n",
    "You work for a major candy producer, and your goal is to write a report that your company can use to guide the design of its next product.  Soon after starting your research, you stumble across this [very interesting dataset](https://fivethirtyeight.com/features/the-ultimate-halloween-candy-power-ranking/) containing results from a fun survey to crowdsource favorite candies.\n",
    "\n",
    "## Setup\n",
    "\n",
    "Run the next cell to import and configure the Python libraries that you need to complete the exercise."
   ]
  },
  {
   "cell_type": "code",
   "execution_count": 1,
   "id": "e5c49ec4",
   "metadata": {
    "execution": {
     "iopub.execute_input": "2022-12-28T14:40:02.318768Z",
     "iopub.status.busy": "2022-12-28T14:40:02.318262Z",
     "iopub.status.idle": "2022-12-28T14:40:03.493883Z",
     "shell.execute_reply": "2022-12-28T14:40:03.492395Z"
    },
    "papermill": {
     "duration": 1.189777,
     "end_time": "2022-12-28T14:40:03.496977",
     "exception": false,
     "start_time": "2022-12-28T14:40:02.307200",
     "status": "completed"
    },
    "tags": []
   },
   "outputs": [
    {
     "name": "stdout",
     "output_type": "stream",
     "text": [
      "Setup Complete\n"
     ]
    }
   ],
   "source": [
    "import pandas as pd\n",
    "pd.plotting.register_matplotlib_converters()\n",
    "import matplotlib.pyplot as plt\n",
    "%matplotlib inline\n",
    "import seaborn as sns\n",
    "print(\"Setup Complete\")"
   ]
  },
  {
   "cell_type": "markdown",
   "id": "20db9ac4",
   "metadata": {
    "papermill": {
     "duration": 0.008933,
     "end_time": "2022-12-28T14:40:03.515152",
     "exception": false,
     "start_time": "2022-12-28T14:40:03.506219",
     "status": "completed"
    },
    "tags": []
   },
   "source": [
    "The questions below will give you feedback on your work. Run the following cell to set up our feedback system."
   ]
  },
  {
   "cell_type": "code",
   "execution_count": 2,
   "id": "69d97923",
   "metadata": {
    "execution": {
     "iopub.execute_input": "2022-12-28T14:40:03.537030Z",
     "iopub.status.busy": "2022-12-28T14:40:03.536597Z",
     "iopub.status.idle": "2022-12-28T14:40:03.618219Z",
     "shell.execute_reply": "2022-12-28T14:40:03.616712Z"
    },
    "papermill": {
     "duration": 0.094844,
     "end_time": "2022-12-28T14:40:03.621018",
     "exception": false,
     "start_time": "2022-12-28T14:40:03.526174",
     "status": "completed"
    },
    "tags": []
   },
   "outputs": [
    {
     "name": "stdout",
     "output_type": "stream",
     "text": [
      "Setup Complete\n"
     ]
    }
   ],
   "source": [
    "# Set up code checking\n",
    "import os\n",
    "if not os.path.exists(\"../input/candy.csv\"):\n",
    "    os.symlink(\"../input/data-for-datavis/candy.csv\", \"../input/candy.csv\") \n",
    "from learntools.core import binder\n",
    "binder.bind(globals())\n",
    "from learntools.data_viz_to_coder.ex4 import *\n",
    "print(\"Setup Complete\")"
   ]
  },
  {
   "cell_type": "markdown",
   "id": "e22254b7",
   "metadata": {
    "papermill": {
     "duration": 0.008945,
     "end_time": "2022-12-28T14:40:03.639679",
     "exception": false,
     "start_time": "2022-12-28T14:40:03.630734",
     "status": "completed"
    },
    "tags": []
   },
   "source": [
    "## Step 1: Load the Data\n",
    "\n",
    "Read the candy data file into `candy_data`.  Use the `\"id\"` column to label the rows."
   ]
  },
  {
   "cell_type": "code",
   "execution_count": 3,
   "id": "c08dc9d7",
   "metadata": {
    "execution": {
     "iopub.execute_input": "2022-12-28T14:40:03.659985Z",
     "iopub.status.busy": "2022-12-28T14:40:03.659592Z",
     "iopub.status.idle": "2022-12-28T14:40:03.677663Z",
     "shell.execute_reply": "2022-12-28T14:40:03.676416Z"
    },
    "papermill": {
     "duration": 0.031246,
     "end_time": "2022-12-28T14:40:03.680246",
     "exception": false,
     "start_time": "2022-12-28T14:40:03.649000",
     "status": "completed"
    },
    "tags": []
   },
   "outputs": [
    {
     "data": {
      "application/javascript": [
       "parent.postMessage({\"jupyterEvent\": \"custom.exercise_interaction\", \"data\": {\"outcomeType\": 1, \"valueTowardsCompletion\": 0.3333333333333333, \"interactionType\": 1, \"questionType\": 1, \"questionId\": \"1_LoadData\", \"learnToolsVersion\": \"0.3.4\", \"failureMessage\": \"\", \"exceptionClass\": \"\", \"trace\": \"\"}}, \"*\")"
      ],
      "text/plain": [
       "<IPython.core.display.Javascript object>"
      ]
     },
     "metadata": {},
     "output_type": "display_data"
    },
    {
     "data": {
      "text/markdown": [
       "<span style=\"color:#33cc33\">Correct</span>"
      ],
      "text/plain": [
       "Correct"
      ]
     },
     "metadata": {},
     "output_type": "display_data"
    }
   ],
   "source": [
    "# Path of the file to read\n",
    "candy_filepath = \"../input/candy.csv\"\n",
    "\n",
    "# Fill in the line below to read the file into a variable candy_data\n",
    "candy_data = pd.read_csv(candy_filepath, index_col = 'id')\n",
    "\n",
    "# Run the line below with no changes to check that you've loaded the data correctly\n",
    "step_1.check()"
   ]
  },
  {
   "cell_type": "code",
   "execution_count": 4,
   "id": "122eed5b",
   "metadata": {
    "execution": {
     "iopub.execute_input": "2022-12-28T14:40:03.701543Z",
     "iopub.status.busy": "2022-12-28T14:40:03.700415Z",
     "iopub.status.idle": "2022-12-28T14:40:03.705436Z",
     "shell.execute_reply": "2022-12-28T14:40:03.704251Z"
    },
    "papermill": {
     "duration": 0.017851,
     "end_time": "2022-12-28T14:40:03.707544",
     "exception": false,
     "start_time": "2022-12-28T14:40:03.689693",
     "status": "completed"
    },
    "tags": []
   },
   "outputs": [],
   "source": [
    "# Lines below will give you a hint or solution code\n",
    "#step_1.hint()\n",
    "#step_1.solution()"
   ]
  },
  {
   "cell_type": "markdown",
   "id": "8d078bc3",
   "metadata": {
    "papermill": {
     "duration": 0.008855,
     "end_time": "2022-12-28T14:40:03.726051",
     "exception": false,
     "start_time": "2022-12-28T14:40:03.717196",
     "status": "completed"
    },
    "tags": []
   },
   "source": [
    "## Step 2: Review the data\n",
    "\n",
    "Use a Python command to print the first five rows of the data."
   ]
  },
  {
   "cell_type": "code",
   "execution_count": 5,
   "id": "a46a20dd",
   "metadata": {
    "execution": {
     "iopub.execute_input": "2022-12-28T14:40:03.746120Z",
     "iopub.status.busy": "2022-12-28T14:40:03.745685Z",
     "iopub.status.idle": "2022-12-28T14:40:03.769403Z",
     "shell.execute_reply": "2022-12-28T14:40:03.768558Z"
    },
    "papermill": {
     "duration": 0.036834,
     "end_time": "2022-12-28T14:40:03.771852",
     "exception": false,
     "start_time": "2022-12-28T14:40:03.735018",
     "status": "completed"
    },
    "tags": []
   },
   "outputs": [
    {
     "data": {
      "text/html": [
       "<div>\n",
       "<style scoped>\n",
       "    .dataframe tbody tr th:only-of-type {\n",
       "        vertical-align: middle;\n",
       "    }\n",
       "\n",
       "    .dataframe tbody tr th {\n",
       "        vertical-align: top;\n",
       "    }\n",
       "\n",
       "    .dataframe thead th {\n",
       "        text-align: right;\n",
       "    }\n",
       "</style>\n",
       "<table border=\"1\" class=\"dataframe\">\n",
       "  <thead>\n",
       "    <tr style=\"text-align: right;\">\n",
       "      <th></th>\n",
       "      <th>competitorname</th>\n",
       "      <th>chocolate</th>\n",
       "      <th>fruity</th>\n",
       "      <th>caramel</th>\n",
       "      <th>peanutyalmondy</th>\n",
       "      <th>nougat</th>\n",
       "      <th>crispedricewafer</th>\n",
       "      <th>hard</th>\n",
       "      <th>bar</th>\n",
       "      <th>pluribus</th>\n",
       "      <th>sugarpercent</th>\n",
       "      <th>pricepercent</th>\n",
       "      <th>winpercent</th>\n",
       "    </tr>\n",
       "    <tr>\n",
       "      <th>id</th>\n",
       "      <th></th>\n",
       "      <th></th>\n",
       "      <th></th>\n",
       "      <th></th>\n",
       "      <th></th>\n",
       "      <th></th>\n",
       "      <th></th>\n",
       "      <th></th>\n",
       "      <th></th>\n",
       "      <th></th>\n",
       "      <th></th>\n",
       "      <th></th>\n",
       "      <th></th>\n",
       "    </tr>\n",
       "  </thead>\n",
       "  <tbody>\n",
       "    <tr>\n",
       "      <th>0</th>\n",
       "      <td>100 Grand</td>\n",
       "      <td>Yes</td>\n",
       "      <td>No</td>\n",
       "      <td>Yes</td>\n",
       "      <td>No</td>\n",
       "      <td>No</td>\n",
       "      <td>Yes</td>\n",
       "      <td>No</td>\n",
       "      <td>Yes</td>\n",
       "      <td>No</td>\n",
       "      <td>0.732</td>\n",
       "      <td>0.860</td>\n",
       "      <td>66.971725</td>\n",
       "    </tr>\n",
       "    <tr>\n",
       "      <th>1</th>\n",
       "      <td>3 Musketeers</td>\n",
       "      <td>Yes</td>\n",
       "      <td>No</td>\n",
       "      <td>No</td>\n",
       "      <td>No</td>\n",
       "      <td>Yes</td>\n",
       "      <td>No</td>\n",
       "      <td>No</td>\n",
       "      <td>Yes</td>\n",
       "      <td>No</td>\n",
       "      <td>0.604</td>\n",
       "      <td>0.511</td>\n",
       "      <td>67.602936</td>\n",
       "    </tr>\n",
       "    <tr>\n",
       "      <th>2</th>\n",
       "      <td>Air Heads</td>\n",
       "      <td>No</td>\n",
       "      <td>Yes</td>\n",
       "      <td>No</td>\n",
       "      <td>No</td>\n",
       "      <td>No</td>\n",
       "      <td>No</td>\n",
       "      <td>No</td>\n",
       "      <td>No</td>\n",
       "      <td>No</td>\n",
       "      <td>0.906</td>\n",
       "      <td>0.511</td>\n",
       "      <td>52.341465</td>\n",
       "    </tr>\n",
       "    <tr>\n",
       "      <th>3</th>\n",
       "      <td>Almond Joy</td>\n",
       "      <td>Yes</td>\n",
       "      <td>No</td>\n",
       "      <td>No</td>\n",
       "      <td>Yes</td>\n",
       "      <td>No</td>\n",
       "      <td>No</td>\n",
       "      <td>No</td>\n",
       "      <td>Yes</td>\n",
       "      <td>No</td>\n",
       "      <td>0.465</td>\n",
       "      <td>0.767</td>\n",
       "      <td>50.347546</td>\n",
       "    </tr>\n",
       "    <tr>\n",
       "      <th>4</th>\n",
       "      <td>Baby Ruth</td>\n",
       "      <td>Yes</td>\n",
       "      <td>No</td>\n",
       "      <td>Yes</td>\n",
       "      <td>Yes</td>\n",
       "      <td>Yes</td>\n",
       "      <td>No</td>\n",
       "      <td>No</td>\n",
       "      <td>Yes</td>\n",
       "      <td>No</td>\n",
       "      <td>0.604</td>\n",
       "      <td>0.767</td>\n",
       "      <td>56.914547</td>\n",
       "    </tr>\n",
       "  </tbody>\n",
       "</table>\n",
       "</div>"
      ],
      "text/plain": [
       "   competitorname chocolate fruity caramel peanutyalmondy nougat  \\\n",
       "id                                                                 \n",
       "0       100 Grand       Yes     No     Yes             No     No   \n",
       "1    3 Musketeers       Yes     No      No             No    Yes   \n",
       "2       Air Heads        No    Yes      No             No     No   \n",
       "3      Almond Joy       Yes     No      No            Yes     No   \n",
       "4       Baby Ruth       Yes     No     Yes            Yes    Yes   \n",
       "\n",
       "   crispedricewafer hard  bar pluribus  sugarpercent  pricepercent  winpercent  \n",
       "id                                                                              \n",
       "0               Yes   No  Yes       No         0.732         0.860   66.971725  \n",
       "1                No   No  Yes       No         0.604         0.511   67.602936  \n",
       "2                No   No   No       No         0.906         0.511   52.341465  \n",
       "3                No   No  Yes       No         0.465         0.767   50.347546  \n",
       "4                No   No  Yes       No         0.604         0.767   56.914547  "
      ]
     },
     "execution_count": 5,
     "metadata": {},
     "output_type": "execute_result"
    }
   ],
   "source": [
    "# Print the first five rows of the data\n",
    "candy_data.head()# Your code here"
   ]
  },
  {
   "cell_type": "code",
   "execution_count": 6,
   "id": "7fb79986",
   "metadata": {
    "execution": {
     "iopub.execute_input": "2022-12-28T14:40:03.793321Z",
     "iopub.status.busy": "2022-12-28T14:40:03.792538Z",
     "iopub.status.idle": "2022-12-28T14:40:03.807335Z",
     "shell.execute_reply": "2022-12-28T14:40:03.806525Z"
    },
    "papermill": {
     "duration": 0.027877,
     "end_time": "2022-12-28T14:40:03.809275",
     "exception": false,
     "start_time": "2022-12-28T14:40:03.781398",
     "status": "completed"
    },
    "tags": []
   },
   "outputs": [
    {
     "data": {
      "application/javascript": [
       "parent.postMessage({\"jupyterEvent\": \"custom.exercise_interaction\", \"data\": {\"outcomeType\": 1, \"valueTowardsCompletion\": 0.3333333333333333, \"interactionType\": 1, \"questionType\": 1, \"questionId\": \"1_LoadData\", \"learnToolsVersion\": \"0.3.4\", \"failureMessage\": \"\", \"exceptionClass\": \"\", \"trace\": \"\"}}, \"*\")"
      ],
      "text/plain": [
       "<IPython.core.display.Javascript object>"
      ]
     },
     "metadata": {},
     "output_type": "display_data"
    },
    {
     "data": {
      "text/markdown": [
       "<span style=\"color:#33cc33\">Correct</span>"
      ],
      "text/plain": [
       "Correct"
      ]
     },
     "metadata": {},
     "output_type": "display_data"
    }
   ],
   "source": [
    "# Path of the file to read\n",
    "candy_filepath = \"../input/candy.csv\"\n",
    "\n",
    "# Fill in the line below to read the file into a variable candy_data\n",
    "candy_data = pd.read_csv(candy_filepath, index_col = 'id')\n",
    "\n",
    "# Run the line below with no changes to check that you've loaded the data correctly\n",
    "step_1.check()"
   ]
  },
  {
   "cell_type": "markdown",
   "id": "0cad6cc3",
   "metadata": {
    "papermill": {
     "duration": 0.010517,
     "end_time": "2022-12-28T14:40:03.829496",
     "exception": false,
     "start_time": "2022-12-28T14:40:03.818979",
     "status": "completed"
    },
    "tags": []
   },
   "source": [
    "The dataset contains 83 rows, where each corresponds to a different candy bar.  There are 13 columns:\n",
    "- `'competitorname'` contains the name of the candy bar. \n",
    "- the next **9** columns (from `'chocolate'` to `'pluribus'`) describe the candy.  For instance, rows with chocolate candies have `\"Yes\"` in the `'chocolate'` column (and candies without chocolate have `\"No\"` in the same column).\n",
    "- `'sugarpercent'` provides some indication of the amount of sugar, where higher values signify higher sugar content.\n",
    "- `'pricepercent'` shows the price per unit, relative to the other candies in the dataset.\n",
    "- `'winpercent'` is calculated from the survey results; higher values indicate that the candy was more popular with survey respondents.\n",
    "\n",
    "Use the first five rows of the data to answer the questions below."
   ]
  },
  {
   "cell_type": "code",
   "execution_count": 7,
   "id": "f92bf4c3",
   "metadata": {
    "execution": {
     "iopub.execute_input": "2022-12-28T14:40:03.852433Z",
     "iopub.status.busy": "2022-12-28T14:40:03.851634Z",
     "iopub.status.idle": "2022-12-28T14:40:03.861003Z",
     "shell.execute_reply": "2022-12-28T14:40:03.859894Z"
    },
    "papermill": {
     "duration": 0.02337,
     "end_time": "2022-12-28T14:40:03.863579",
     "exception": false,
     "start_time": "2022-12-28T14:40:03.840209",
     "status": "completed"
    },
    "tags": []
   },
   "outputs": [
    {
     "data": {
      "application/javascript": [
       "parent.postMessage({\"jupyterEvent\": \"custom.exercise_interaction\", \"data\": {\"outcomeType\": 1, \"valueTowardsCompletion\": 0.3333333333333333, \"interactionType\": 1, \"questionType\": 1, \"questionId\": \"2_ReviewData\", \"learnToolsVersion\": \"0.3.4\", \"failureMessage\": \"\", \"exceptionClass\": \"\", \"trace\": \"\"}}, \"*\")"
      ],
      "text/plain": [
       "<IPython.core.display.Javascript object>"
      ]
     },
     "metadata": {},
     "output_type": "display_data"
    },
    {
     "data": {
      "text/markdown": [
       "<span style=\"color:#33cc33\">Correct</span>"
      ],
      "text/plain": [
       "Correct"
      ]
     },
     "metadata": {},
     "output_type": "display_data"
    }
   ],
   "source": [
    "# Fill in the line below: Which candy was more popular with survey respondents:\n",
    "# '3 Musketeers' or 'Almond Joy'?  (Please enclose your answer in single quotes.)\n",
    "more_popular = '3 Musketeers'\n",
    "\n",
    "# Fill in the line below: Which candy has higher sugar content: 'Air Heads'\n",
    "# or 'Baby Ruth'? (Please enclose your answer in single quotes.)\n",
    "more_sugar = 'Air Heads'\n",
    "\n",
    "# Check your answers\n",
    "step_2.check()"
   ]
  },
  {
   "cell_type": "code",
   "execution_count": 8,
   "id": "9a3a3eae",
   "metadata": {
    "execution": {
     "iopub.execute_input": "2022-12-28T14:40:03.886444Z",
     "iopub.status.busy": "2022-12-28T14:40:03.885609Z",
     "iopub.status.idle": "2022-12-28T14:40:03.912116Z",
     "shell.execute_reply": "2022-12-28T14:40:03.910830Z"
    },
    "papermill": {
     "duration": 0.040873,
     "end_time": "2022-12-28T14:40:03.914665",
     "exception": false,
     "start_time": "2022-12-28T14:40:03.873792",
     "status": "completed"
    },
    "tags": []
   },
   "outputs": [
    {
     "data": {
      "text/html": [
       "<div>\n",
       "<style scoped>\n",
       "    .dataframe tbody tr th:only-of-type {\n",
       "        vertical-align: middle;\n",
       "    }\n",
       "\n",
       "    .dataframe tbody tr th {\n",
       "        vertical-align: top;\n",
       "    }\n",
       "\n",
       "    .dataframe thead th {\n",
       "        text-align: right;\n",
       "    }\n",
       "</style>\n",
       "<table border=\"1\" class=\"dataframe\">\n",
       "  <thead>\n",
       "    <tr style=\"text-align: right;\">\n",
       "      <th></th>\n",
       "      <th>competitorname</th>\n",
       "      <th>chocolate</th>\n",
       "      <th>fruity</th>\n",
       "      <th>caramel</th>\n",
       "      <th>peanutyalmondy</th>\n",
       "      <th>nougat</th>\n",
       "      <th>crispedricewafer</th>\n",
       "      <th>hard</th>\n",
       "      <th>bar</th>\n",
       "      <th>pluribus</th>\n",
       "      <th>sugarpercent</th>\n",
       "      <th>pricepercent</th>\n",
       "      <th>winpercent</th>\n",
       "    </tr>\n",
       "    <tr>\n",
       "      <th>id</th>\n",
       "      <th></th>\n",
       "      <th></th>\n",
       "      <th></th>\n",
       "      <th></th>\n",
       "      <th></th>\n",
       "      <th></th>\n",
       "      <th></th>\n",
       "      <th></th>\n",
       "      <th></th>\n",
       "      <th></th>\n",
       "      <th></th>\n",
       "      <th></th>\n",
       "      <th></th>\n",
       "    </tr>\n",
       "  </thead>\n",
       "  <tbody>\n",
       "    <tr>\n",
       "      <th>4</th>\n",
       "      <td>Baby Ruth</td>\n",
       "      <td>Yes</td>\n",
       "      <td>No</td>\n",
       "      <td>Yes</td>\n",
       "      <td>Yes</td>\n",
       "      <td>Yes</td>\n",
       "      <td>No</td>\n",
       "      <td>No</td>\n",
       "      <td>Yes</td>\n",
       "      <td>No</td>\n",
       "      <td>0.604</td>\n",
       "      <td>0.767</td>\n",
       "      <td>56.914547</td>\n",
       "    </tr>\n",
       "  </tbody>\n",
       "</table>\n",
       "</div>"
      ],
      "text/plain": [
       "   competitorname chocolate fruity caramel peanutyalmondy nougat  \\\n",
       "id                                                                 \n",
       "4       Baby Ruth       Yes     No     Yes            Yes    Yes   \n",
       "\n",
       "   crispedricewafer hard  bar pluribus  sugarpercent  pricepercent  winpercent  \n",
       "id                                                                              \n",
       "4                No   No  Yes       No         0.604         0.767   56.914547  "
      ]
     },
     "execution_count": 8,
     "metadata": {},
     "output_type": "execute_result"
    }
   ],
   "source": [
    "# filter = candy_data['winpercent'] == 66.971725\n",
    "# print(candy_data.where(filter, inplace = True))\n",
    "\n",
    "# data = candy_data[candy_data['winpercent'] == candy_data['winpercent'].max(axis = 0) ]\n",
    "data = candy_data[(candy_data['competitorname'] == 'Air Heads') & ~(candy_data['sugarpercent'] == candy_data['sugarpercent'].max(axis = 0))]\n",
    "data2 = candy_data[(candy_data['competitorname'] == 'Baby Ruth') & ~(candy_data['sugarpercent'] == candy_data['sugarpercent'].max(axis = 0))]\n",
    "\n",
    "# data2 = candy_data[candy_data['competitorname'] == 'Baby Ruth' ]\n",
    "# print(f\"dataAir Heads = {data},dataBaby Ruth = {data2}\")\n",
    "data2\n"
   ]
  },
  {
   "cell_type": "code",
   "execution_count": 9,
   "id": "ffefe633",
   "metadata": {
    "execution": {
     "iopub.execute_input": "2022-12-28T14:40:03.937270Z",
     "iopub.status.busy": "2022-12-28T14:40:03.936869Z",
     "iopub.status.idle": "2022-12-28T14:40:03.950061Z",
     "shell.execute_reply": "2022-12-28T14:40:03.949007Z"
    },
    "papermill": {
     "duration": 0.027088,
     "end_time": "2022-12-28T14:40:03.952330",
     "exception": false,
     "start_time": "2022-12-28T14:40:03.925242",
     "status": "completed"
    },
    "tags": []
   },
   "outputs": [
    {
     "data": {
      "application/javascript": [
       "parent.postMessage({\"jupyterEvent\": \"custom.exercise_interaction\", \"data\": {\"interactionType\": 2, \"questionType\": 1, \"questionId\": \"2_ReviewData\", \"learnToolsVersion\": \"0.3.4\", \"valueTowardsCompletion\": 0.0, \"failureMessage\": \"\", \"exceptionClass\": \"\", \"trace\": \"\", \"outcomeType\": 4}}, \"*\")"
      ],
      "text/plain": [
       "<IPython.core.display.Javascript object>"
      ]
     },
     "metadata": {},
     "output_type": "display_data"
    },
    {
     "data": {
      "text/markdown": [
       "<span style=\"color:#3366cc\">Hint:</span> Use the `head()` command to print the first 5 rows. **After printing the first 5 rows**, each row corresponds to a different candy. The `'winpercent'` column indicates the popularity of the candy. The `'sugarpercent'` column has the amount of sugar in the candy."
      ],
      "text/plain": [
       "Hint: Use the `head()` command to print the first 5 rows. **After printing the first 5 rows**, each row corresponds to a different candy. The `'winpercent'` column indicates the popularity of the candy. The `'sugarpercent'` column has the amount of sugar in the candy."
      ]
     },
     "metadata": {},
     "output_type": "display_data"
    },
    {
     "data": {
      "application/javascript": [
       "parent.postMessage({\"jupyterEvent\": \"custom.exercise_interaction\", \"data\": {\"interactionType\": 3, \"questionType\": 1, \"questionId\": \"2_ReviewData\", \"learnToolsVersion\": \"0.3.4\", \"valueTowardsCompletion\": 0.0, \"failureMessage\": \"\", \"exceptionClass\": \"\", \"trace\": \"\", \"outcomeType\": 4}}, \"*\")"
      ],
      "text/plain": [
       "<IPython.core.display.Javascript object>"
      ]
     },
     "metadata": {},
     "output_type": "display_data"
    },
    {
     "data": {
      "text/markdown": [
       "<span style=\"color:#33cc99\">Solution:</span> \n",
       "```python\n",
       "# Print the first five rows of the data\n",
       "candy_data.head()\n",
       "# Which candy was more popular with survey respondents:\n",
       "# '3 Musketeers' or 'Almond Joy'?\n",
       "more_popular = '3 Musketeers'\n",
       "# Which candy has higher sugar content: 'Air Heads'\n",
       "# or 'Baby Ruth'?\n",
       "more_sugar = 'Air Heads'\n",
       "\n",
       "```"
      ],
      "text/plain": [
       "Solution: \n",
       "```python\n",
       "# Print the first five rows of the data\n",
       "candy_data.head()\n",
       "# Which candy was more popular with survey respondents:\n",
       "# '3 Musketeers' or 'Almond Joy'?\n",
       "more_popular = '3 Musketeers'\n",
       "# Which candy has higher sugar content: 'Air Heads'\n",
       "# or 'Baby Ruth'?\n",
       "more_sugar = 'Air Heads'\n",
       "\n",
       "```"
      ]
     },
     "metadata": {},
     "output_type": "display_data"
    }
   ],
   "source": [
    "# Lines below will give you a hint or solution code\n",
    "step_2.hint()\n",
    "step_2.solution()"
   ]
  },
  {
   "cell_type": "markdown",
   "id": "a1d6ae58",
   "metadata": {
    "papermill": {
     "duration": 0.010613,
     "end_time": "2022-12-28T14:40:03.974208",
     "exception": false,
     "start_time": "2022-12-28T14:40:03.963595",
     "status": "completed"
    },
    "tags": []
   },
   "source": [
    "## Step 3: The role of sugar\n",
    "\n",
    "Do people tend to prefer candies with higher sugar content?  \n",
    "\n",
    "#### Part A\n",
    "\n",
    "Create a scatter plot that shows the relationship between `'sugarpercent'` (on the horizontal x-axis) and `'winpercent'` (on the vertical y-axis).  _Don't add a regression line just yet -- you'll do that in the next step!_"
   ]
  },
  {
   "cell_type": "code",
   "execution_count": 10,
   "id": "ce155202",
   "metadata": {
    "execution": {
     "iopub.execute_input": "2022-12-28T14:40:03.997715Z",
     "iopub.status.busy": "2022-12-28T14:40:03.997280Z",
     "iopub.status.idle": "2022-12-28T14:40:04.274237Z",
     "shell.execute_reply": "2022-12-28T14:40:04.273107Z"
    },
    "papermill": {
     "duration": 0.29142,
     "end_time": "2022-12-28T14:40:04.276588",
     "exception": false,
     "start_time": "2022-12-28T14:40:03.985168",
     "status": "completed"
    },
    "tags": []
   },
   "outputs": [
    {
     "data": {
      "application/javascript": [
       "parent.postMessage({\"jupyterEvent\": \"custom.exercise_interaction\", \"data\": {\"outcomeType\": 1, \"valueTowardsCompletion\": 0.3333333333333333, \"interactionType\": 1, \"questionType\": 2, \"questionId\": \"3.1_PlotBlueScatter\", \"learnToolsVersion\": \"0.3.4\", \"failureMessage\": \"\", \"exceptionClass\": \"\", \"trace\": \"\"}}, \"*\")"
      ],
      "text/plain": [
       "<IPython.core.display.Javascript object>"
      ]
     },
     "metadata": {},
     "output_type": "display_data"
    },
    {
     "data": {
      "text/markdown": [
       "<span style=\"color:#33cc33\">Correct</span>"
      ],
      "text/plain": [
       "Correct"
      ]
     },
     "metadata": {},
     "output_type": "display_data"
    },
    {
     "data": {
      "image/png": "[encoded data removed]",
      "text/plain": [
       "<Figure size 432x288 with 1 Axes>"
      ]
     },
     "metadata": {
      "needs_background": "light"
     },
     "output_type": "display_data"
    }
   ],
   "source": [
    "# Scatter plot showing the relationship between 'sugarpercent' and 'winpercent'\n",
    "# Your code here\n",
    "sns.scatterplot(x = 'sugarpercent', y = 'winpercent', data = candy_data)\n",
    "\n",
    "\n",
    "# Check your answer\n",
    "step_3.a.check()"
   ]
  },
  {
   "cell_type": "code",
   "execution_count": 11,
   "id": "1834a607",
   "metadata": {
    "execution": {
     "iopub.execute_input": "2022-12-28T14:40:04.302003Z",
     "iopub.status.busy": "2022-12-28T14:40:04.301505Z",
     "iopub.status.idle": "2022-12-28T14:40:04.306807Z",
     "shell.execute_reply": "2022-12-28T14:40:04.305598Z"
    },
    "papermill": {
     "duration": 0.020548,
     "end_time": "2022-12-28T14:40:04.309166",
     "exception": false,
     "start_time": "2022-12-28T14:40:04.288618",
     "status": "completed"
    },
    "tags": []
   },
   "outputs": [],
   "source": [
    "# Lines below will give you a hint or solution code\n",
    "#step_3.a.hint()\n",
    "#step_3.a.solution_plot()"
   ]
  },
  {
   "cell_type": "markdown",
   "id": "f19e9509",
   "metadata": {
    "papermill": {
     "duration": 0.011015,
     "end_time": "2022-12-28T14:40:04.331193",
     "exception": false,
     "start_time": "2022-12-28T14:40:04.320178",
     "status": "completed"
    },
    "tags": []
   },
   "source": [
    "#### Part B\n",
    "\n",
    "Does the scatter plot show a **strong** correlation between the two variables?  If so, are candies with more sugar relatively more or less popular with the survey respondents?"
   ]
  },
  {
   "cell_type": "code",
   "execution_count": 12,
   "id": "ac8fcd96",
   "metadata": {
    "execution": {
     "iopub.execute_input": "2022-12-28T14:40:04.356057Z",
     "iopub.status.busy": "2022-12-28T14:40:04.355226Z",
     "iopub.status.idle": "2022-12-28T14:40:04.366159Z",
     "shell.execute_reply": "2022-12-28T14:40:04.364985Z"
    },
    "papermill": {
     "duration": 0.025966,
     "end_time": "2022-12-28T14:40:04.368510",
     "exception": false,
     "start_time": "2022-12-28T14:40:04.342544",
     "status": "completed"
    },
    "tags": []
   },
   "outputs": [
    {
     "data": {
      "application/javascript": [
       "parent.postMessage({\"jupyterEvent\": \"custom.exercise_interaction\", \"data\": {\"interactionType\": 2, \"questionType\": 4, \"questionId\": \"3.2_ThinkBlueScatter\", \"learnToolsVersion\": \"0.3.4\", \"valueTowardsCompletion\": 0.0, \"failureMessage\": \"\", \"exceptionClass\": \"\", \"trace\": \"\", \"outcomeType\": 4}}, \"*\")"
      ],
      "text/plain": [
       "<IPython.core.display.Javascript object>"
      ]
     },
     "metadata": {},
     "output_type": "display_data"
    },
    {
     "data": {
      "text/markdown": [
       "<span style=\"color:#3366cc\">Hint:</span> Compare candies with higher sugar content (on the right side of the chart) to candies with lower sugar content (on the left side of the chart). Is one group clearly more popular than the other?"
      ],
      "text/plain": [
       "Hint: Compare candies with higher sugar content (on the right side of the chart) to candies with lower sugar content (on the left side of the chart). Is one group clearly more popular than the other?"
      ]
     },
     "metadata": {},
     "output_type": "display_data"
    }
   ],
   "source": [
    "step_3.b.hint()\n"
   ]
  },
  {
   "cell_type": "code",
   "execution_count": 13,
   "id": "da81927d",
   "metadata": {
    "execution": {
     "iopub.execute_input": "2022-12-28T14:40:04.393448Z",
     "iopub.status.busy": "2022-12-28T14:40:04.392975Z",
     "iopub.status.idle": "2022-12-28T14:40:04.402960Z",
     "shell.execute_reply": "2022-12-28T14:40:04.401844Z"
    },
    "papermill": {
     "duration": 0.025114,
     "end_time": "2022-12-28T14:40:04.405165",
     "exception": false,
     "start_time": "2022-12-28T14:40:04.380051",
     "status": "completed"
    },
    "tags": []
   },
   "outputs": [
    {
     "data": {
      "application/javascript": [
       "parent.postMessage({\"jupyterEvent\": \"custom.exercise_interaction\", \"data\": {\"interactionType\": 3, \"questionType\": 4, \"questionId\": \"3.2_ThinkBlueScatter\", \"learnToolsVersion\": \"0.3.4\", \"valueTowardsCompletion\": 0.0, \"failureMessage\": \"\", \"exceptionClass\": \"\", \"trace\": \"\", \"outcomeType\": 4}}, \"*\")"
      ],
      "text/plain": [
       "<IPython.core.display.Javascript object>"
      ]
     },
     "metadata": {},
     "output_type": "display_data"
    },
    {
     "data": {
      "text/markdown": [
       "<span style=\"color:#33cc99\">Solution:</span> The scatter plot does not show a strong correlation between the two variables. Since there is no clear relationship between the two variables, this tells us that sugar content does not play a strong role in candy popularity."
      ],
      "text/plain": [
       "Solution: The scatter plot does not show a strong correlation between the two variables. Since there is no clear relationship between the two variables, this tells us that sugar content does not play a strong role in candy popularity."
      ]
     },
     "metadata": {},
     "output_type": "display_data"
    }
   ],
   "source": [
    "# Check your answer (Run this code cell to receive credit!)\n",
    "step_3.b.solution()"
   ]
  },
  {
   "cell_type": "markdown",
   "id": "4e48c045",
   "metadata": {
    "papermill": {
     "duration": 0.011004,
     "end_time": "2022-12-28T14:40:04.427531",
     "exception": false,
     "start_time": "2022-12-28T14:40:04.416527",
     "status": "completed"
    },
    "tags": []
   },
   "source": [
    "## Step 4: Take a closer look\n",
    "\n",
    "#### Part A\n",
    "\n",
    "Create the same scatter plot you created in **Step 3**, but now with a regression line!"
   ]
  },
  {
   "cell_type": "code",
   "execution_count": 14,
   "id": "e4ea66a2",
   "metadata": {
    "execution": {
     "iopub.execute_input": "2022-12-28T14:40:04.452503Z",
     "iopub.status.busy": "2022-12-28T14:40:04.452037Z",
     "iopub.status.idle": "2022-12-28T14:40:04.793503Z",
     "shell.execute_reply": "2022-12-28T14:40:04.792025Z"
    },
    "papermill": {
     "duration": 0.357398,
     "end_time": "2022-12-28T14:40:04.796304",
     "exception": false,
     "start_time": "2022-12-28T14:40:04.438906",
     "status": "completed"
    },
    "tags": []
   },
   "outputs": [
    {
     "data": {
      "application/javascript": [
       "parent.postMessage({\"jupyterEvent\": \"custom.exercise_interaction\", \"data\": {\"outcomeType\": 1, \"valueTowardsCompletion\": 0.3333333333333333, \"interactionType\": 1, \"questionType\": 2, \"questionId\": \"4.1_PlotBlueReg\", \"learnToolsVersion\": \"0.3.4\", \"failureMessage\": \"\", \"exceptionClass\": \"\", \"trace\": \"\"}}, \"*\")"
      ],
      "text/plain": [
       "<IPython.core.display.Javascript object>"
      ]
     },
     "metadata": {},
     "output_type": "display_data"
    },
    {
     "data": {
      "text/markdown": [
       "<span style=\"color:#33cc33\">Correct</span>"
      ],
      "text/plain": [
       "Correct"
      ]
     },
     "metadata": {},
     "output_type": "display_data"
    },
    {
     "data": {
      "image/png": "[encoded data removed]",
      "text/plain": [
       "<Figure size 432x288 with 1 Axes>"
      ]
     },
     "metadata": {
      "needs_background": "light"
     },
     "output_type": "display_data"
    }
   ],
   "source": [
    "# Scatter plot w/ regression line showing the relationship between 'sugarpercent' and 'winpercent'\n",
    "# Your code here\n",
    "sns.regplot(x = 'sugarpercent', y = 'winpercent', data = candy_data)\n",
    "\n",
    "# Check your answer\n",
    "step_4.a.check()"
   ]
  },
  {
   "cell_type": "code",
   "execution_count": 15,
   "id": "72e9eae9",
   "metadata": {
    "execution": {
     "iopub.execute_input": "2022-12-28T14:40:04.823946Z",
     "iopub.status.busy": "2022-12-28T14:40:04.823410Z",
     "iopub.status.idle": "2022-12-28T14:40:04.829244Z",
     "shell.execute_reply": "2022-12-28T14:40:04.828071Z"
    },
    "papermill": {
     "duration": 0.022928,
     "end_time": "2022-12-28T14:40:04.832030",
     "exception": false,
     "start_time": "2022-12-28T14:40:04.809102",
     "status": "completed"
    },
    "tags": []
   },
   "outputs": [],
   "source": [
    "# Lines below will give you a hint or solution code\n",
    "#step_4.a.hint()\n",
    "#step_4.a.solution_plot()"
   ]
  },
  {
   "cell_type": "markdown",
   "id": "a757d264",
   "metadata": {
    "papermill": {
     "duration": 0.014331,
     "end_time": "2022-12-28T14:40:04.865807",
     "exception": false,
     "start_time": "2022-12-28T14:40:04.851476",
     "status": "completed"
    },
    "tags": []
   },
   "source": [
    "#### Part B\n",
    "\n",
    "According to the plot above, is there a **slight** correlation between `'winpercent'` and `'sugarpercent'`?  What does this tell you about the candy that people tend to prefer?"
   ]
  },
  {
   "cell_type": "code",
   "execution_count": 16,
   "id": "b3885798",
   "metadata": {
    "execution": {
     "iopub.execute_input": "2022-12-28T14:40:04.902783Z",
     "iopub.status.busy": "2022-12-28T14:40:04.902008Z",
     "iopub.status.idle": "2022-12-28T14:40:04.914196Z",
     "shell.execute_reply": "2022-12-28T14:40:04.913407Z"
    },
    "papermill": {
     "duration": 0.035971,
     "end_time": "2022-12-28T14:40:04.916782",
     "exception": false,
     "start_time": "2022-12-28T14:40:04.880811",
     "status": "completed"
    },
    "tags": []
   },
   "outputs": [
    {
     "data": {
      "application/javascript": [
       "parent.postMessage({\"jupyterEvent\": \"custom.exercise_interaction\", \"data\": {\"interactionType\": 2, \"questionType\": 4, \"questionId\": \"4.2_ThinkBlueReg\", \"learnToolsVersion\": \"0.3.4\", \"valueTowardsCompletion\": 0.0, \"failureMessage\": \"\", \"exceptionClass\": \"\", \"trace\": \"\", \"outcomeType\": 4}}, \"*\")"
      ],
      "text/plain": [
       "<IPython.core.display.Javascript object>"
      ]
     },
     "metadata": {},
     "output_type": "display_data"
    },
    {
     "data": {
      "text/markdown": [
       "<span style=\"color:#3366cc\">Hint:</span> Does the regression line have a positive or negative slope?"
      ],
      "text/plain": [
       "Hint: Does the regression line have a positive or negative slope?"
      ]
     },
     "metadata": {},
     "output_type": "display_data"
    }
   ],
   "source": [
    "step_4.b.hint()"
   ]
  },
  {
   "cell_type": "code",
   "execution_count": 17,
   "id": "d0facc8e",
   "metadata": {
    "execution": {
     "iopub.execute_input": "2022-12-28T14:40:04.954594Z",
     "iopub.status.busy": "2022-12-28T14:40:04.953959Z",
     "iopub.status.idle": "2022-12-28T14:40:04.962605Z",
     "shell.execute_reply": "2022-12-28T14:40:04.961586Z"
    },
    "papermill": {
     "duration": 0.033904,
     "end_time": "2022-12-28T14:40:04.964961",
     "exception": false,
     "start_time": "2022-12-28T14:40:04.931057",
     "status": "completed"
    },
    "tags": []
   },
   "outputs": [
    {
     "data": {
      "application/javascript": [
       "parent.postMessage({\"jupyterEvent\": \"custom.exercise_interaction\", \"data\": {\"interactionType\": 3, \"questionType\": 4, \"questionId\": \"4.2_ThinkBlueReg\", \"learnToolsVersion\": \"0.3.4\", \"valueTowardsCompletion\": 0.0, \"failureMessage\": \"\", \"exceptionClass\": \"\", \"trace\": \"\", \"outcomeType\": 4}}, \"*\")"
      ],
      "text/plain": [
       "<IPython.core.display.Javascript object>"
      ]
     },
     "metadata": {},
     "output_type": "display_data"
    },
    {
     "data": {
      "text/markdown": [
       "<span style=\"color:#33cc99\">Solution:</span> Since the regression line has a slightly positive slope, this tells us that there is a slightly positive correlation between `'winpercent'` and `'sugarpercent'`. Thus, people have a slight preference for candies containing relatively more sugar."
      ],
      "text/plain": [
       "Solution: Since the regression line has a slightly positive slope, this tells us that there is a slightly positive correlation between `'winpercent'` and `'sugarpercent'`. Thus, people have a slight preference for candies containing relatively more sugar."
      ]
     },
     "metadata": {},
     "output_type": "display_data"
    }
   ],
   "source": [
    "# Check your answer (Run this code cell to receive credit!)\n",
    "step_4.b.solution()"
   ]
  },
  {
   "cell_type": "markdown",
   "id": "265a2995",
   "metadata": {
    "papermill": {
     "duration": 0.013213,
     "end_time": "2022-12-28T14:40:04.992665",
     "exception": false,
     "start_time": "2022-12-28T14:40:04.979452",
     "status": "completed"
    },
    "tags": []
   },
   "source": [
    "## Step 5: Chocolate!\n",
    "\n",
    "In the code cell below, create a scatter plot to show the relationship between `'pricepercent'` (on the horizontal x-axis) and `'winpercent'` (on the vertical y-axis). Use the `'chocolate'` column to color-code the points.  _Don't add any regression lines just yet -- you'll do that in the next step!_"
   ]
  },
  {
   "cell_type": "code",
   "execution_count": 18,
   "id": "99849831",
   "metadata": {
    "execution": {
     "iopub.execute_input": "2022-12-28T14:40:05.023603Z",
     "iopub.status.busy": "2022-12-28T14:40:05.022775Z",
     "iopub.status.idle": "2022-12-28T14:40:05.348399Z",
     "shell.execute_reply": "2022-12-28T14:40:05.347164Z"
    },
    "papermill": {
     "duration": 0.343917,
     "end_time": "2022-12-28T14:40:05.350726",
     "exception": false,
     "start_time": "2022-12-28T14:40:05.006809",
     "status": "completed"
    },
    "tags": []
   },
   "outputs": [
    {
     "data": {
      "application/javascript": [
       "parent.postMessage({\"jupyterEvent\": \"custom.exercise_interaction\", \"data\": {\"outcomeType\": 1, \"valueTowardsCompletion\": 0.3333333333333333, \"interactionType\": 1, \"questionType\": 2, \"questionId\": \"5_ColorScatter\", \"learnToolsVersion\": \"0.3.4\", \"failureMessage\": \"\", \"exceptionClass\": \"\", \"trace\": \"\"}}, \"*\")"
      ],
      "text/plain": [
       "<IPython.core.display.Javascript object>"
      ]
     },
     "metadata": {},
     "output_type": "display_data"
    },
    {
     "data": {
      "text/markdown": [
       "<span style=\"color:#33cc33\">Correct</span>"
      ],
      "text/plain": [
       "Correct"
      ]
     },
     "metadata": {},
     "output_type": "display_data"
    },
    {
     "data": {
      "image/png": "[encoded data removed]",
      "text/plain": [
       "<Figure size 432x288 with 1 Axes>"
      ]
     },
     "metadata": {
      "needs_background": "light"
     },
     "output_type": "display_data"
    }
   ],
   "source": [
    "# Scatter plot showing the relationship between 'pricepercent', 'winpercent', and 'chocolate'\n",
    "# Your code here\n",
    "sns.scatterplot(x = 'sugarpercent', y = 'winpercent', data = candy_data, hue = 'chocolate')\n",
    "\n",
    "\n",
    "# Check your answer\n",
    "step_5.check()"
   ]
  },
  {
   "cell_type": "code",
   "execution_count": 19,
   "id": "79586b10",
   "metadata": {
    "execution": {
     "iopub.execute_input": "2022-12-28T14:40:05.381082Z",
     "iopub.status.busy": "2022-12-28T14:40:05.379579Z",
     "iopub.status.idle": "2022-12-28T14:40:05.385264Z",
     "shell.execute_reply": "2022-12-28T14:40:05.384087Z"
    },
    "papermill": {
     "duration": 0.023535,
     "end_time": "2022-12-28T14:40:05.387664",
     "exception": false,
     "start_time": "2022-12-28T14:40:05.364129",
     "status": "completed"
    },
    "tags": []
   },
   "outputs": [],
   "source": [
    "# Lines below will give you a hint or solution code\n",
    "#step_5.hint()\n",
    "#step_5.solution_plot()"
   ]
  },
  {
   "cell_type": "markdown",
   "id": "b9c1cb09",
   "metadata": {
    "papermill": {
     "duration": 0.01298,
     "end_time": "2022-12-28T14:40:05.414266",
     "exception": false,
     "start_time": "2022-12-28T14:40:05.401286",
     "status": "completed"
    },
    "tags": []
   },
   "source": [
    "Can you see any interesting patterns in the scatter plot?  We'll investigate this plot further  by adding regression lines in the next step!\n",
    "\n",
    "## Step 6: Investigate chocolate\n",
    "\n",
    "#### Part A\n",
    "\n",
    "Create the same scatter plot you created in **Step 5**, but now with two regression lines, corresponding to (1) chocolate candies and (2) candies without chocolate."
   ]
  },
  {
   "cell_type": "code",
   "execution_count": 20,
   "id": "72ac5d28",
   "metadata": {
    "execution": {
     "iopub.execute_input": "2022-12-28T14:40:05.442963Z",
     "iopub.status.busy": "2022-12-28T14:40:05.442113Z",
     "iopub.status.idle": "2022-12-28T14:40:06.104866Z",
     "shell.execute_reply": "2022-12-28T14:40:06.103712Z"
    },
    "papermill": {
     "duration": 0.67986,
     "end_time": "2022-12-28T14:40:06.107195",
     "exception": false,
     "start_time": "2022-12-28T14:40:05.427335",
     "status": "completed"
    },
    "tags": []
   },
   "outputs": [
    {
     "data": {
      "application/javascript": [
       "parent.postMessage({\"jupyterEvent\": \"custom.exercise_interaction\", \"data\": {\"outcomeType\": 1, \"valueTowardsCompletion\": 0.3333333333333333, \"interactionType\": 1, \"questionType\": 2, \"questionId\": \"6.1_PlotColorReg\", \"learnToolsVersion\": \"0.3.4\", \"failureMessage\": \"\", \"exceptionClass\": \"\", \"trace\": \"\"}}, \"*\")"
      ],
      "text/plain": [
       "<IPython.core.display.Javascript object>"
      ]
     },
     "metadata": {},
     "output_type": "display_data"
    },
    {
     "data": {
      "text/markdown": [
       "<span style=\"color:#33cc33\">Correct</span>"
      ],
      "text/plain": [
       "Correct"
      ]
     },
     "metadata": {},
     "output_type": "display_data"
    },
    {
     "data": {
      "image/png": "[encoded data removed]",
      "text/plain": [
       "<Figure size 416.375x360 with 1 Axes>"
      ]
     },
     "metadata": {
      "needs_background": "light"
     },
     "output_type": "display_data"
    }
   ],
   "source": [
    "# Color-coded scatter plot w/ regression lines\n",
    "# Your code here\n",
    "sns.lmplot(x = 'sugarpercent', y = 'winpercent', data = candy_data, hue = 'chocolate')\n",
    "\n",
    "# Check your answer\n",
    "step_6.a.check()"
   ]
  },
  {
   "cell_type": "code",
   "execution_count": 21,
   "id": "18ec056a",
   "metadata": {
    "execution": {
     "iopub.execute_input": "2022-12-28T14:40:06.139008Z",
     "iopub.status.busy": "2022-12-28T14:40:06.138597Z",
     "iopub.status.idle": "2022-12-28T14:40:06.143119Z",
     "shell.execute_reply": "2022-12-28T14:40:06.142393Z"
    },
    "papermill": {
     "duration": 0.024184,
     "end_time": "2022-12-28T14:40:06.145788",
     "exception": false,
     "start_time": "2022-12-28T14:40:06.121604",
     "status": "completed"
    },
    "tags": []
   },
   "outputs": [],
   "source": [
    "# Lines below will give you a hint or solution code\n",
    "#step_6.a.hint()\n",
    "#step_6.a.solution_plot()"
   ]
  },
  {
   "cell_type": "markdown",
   "id": "e71268ed",
   "metadata": {
    "papermill": {
     "duration": 0.014565,
     "end_time": "2022-12-28T14:40:06.174818",
     "exception": false,
     "start_time": "2022-12-28T14:40:06.160253",
     "status": "completed"
    },
    "tags": []
   },
   "source": [
    "#### Part B\n",
    "\n",
    "Using the regression lines, what conclusions can you draw about the effects of chocolate and price on candy popularity?"
   ]
  },
  {
   "cell_type": "code",
   "execution_count": 22,
   "id": "53ee60df",
   "metadata": {
    "execution": {
     "iopub.execute_input": "2022-12-28T14:40:06.205901Z",
     "iopub.status.busy": "2022-12-28T14:40:06.205125Z",
     "iopub.status.idle": "2022-12-28T14:40:06.214049Z",
     "shell.execute_reply": "2022-12-28T14:40:06.212907Z"
    },
    "papermill": {
     "duration": 0.027078,
     "end_time": "2022-12-28T14:40:06.216327",
     "exception": false,
     "start_time": "2022-12-28T14:40:06.189249",
     "status": "completed"
    },
    "tags": []
   },
   "outputs": [
    {
     "data": {
      "application/javascript": [
       "parent.postMessage({\"jupyterEvent\": \"custom.exercise_interaction\", \"data\": {\"interactionType\": 2, \"questionType\": 4, \"questionId\": \"6.2_ThinkColorReg\", \"learnToolsVersion\": \"0.3.4\", \"valueTowardsCompletion\": 0.0, \"failureMessage\": \"\", \"exceptionClass\": \"\", \"trace\": \"\", \"outcomeType\": 4}}, \"*\")"
      ],
      "text/plain": [
       "<IPython.core.display.Javascript object>"
      ]
     },
     "metadata": {},
     "output_type": "display_data"
    },
    {
     "data": {
      "text/markdown": [
       "<span style=\"color:#3366cc\">Hint:</span> Look at each regression line - do you notice a positive or negative slope?"
      ],
      "text/plain": [
       "Hint: Look at each regression line - do you notice a positive or negative slope?"
      ]
     },
     "metadata": {},
     "output_type": "display_data"
    }
   ],
   "source": [
    "step_6.b.hint()"
   ]
  },
  {
   "cell_type": "code",
   "execution_count": 23,
   "id": "300071c3",
   "metadata": {
    "execution": {
     "iopub.execute_input": "2022-12-28T14:40:06.246903Z",
     "iopub.status.busy": "2022-12-28T14:40:06.246515Z",
     "iopub.status.idle": "2022-12-28T14:40:06.255783Z",
     "shell.execute_reply": "2022-12-28T14:40:06.254512Z"
    },
    "papermill": {
     "duration": 0.027359,
     "end_time": "2022-12-28T14:40:06.258047",
     "exception": false,
     "start_time": "2022-12-28T14:40:06.230688",
     "status": "completed"
    },
    "tags": []
   },
   "outputs": [
    {
     "data": {
      "application/javascript": [
       "parent.postMessage({\"jupyterEvent\": \"custom.exercise_interaction\", \"data\": {\"interactionType\": 3, \"questionType\": 4, \"questionId\": \"6.2_ThinkColorReg\", \"learnToolsVersion\": \"0.3.4\", \"valueTowardsCompletion\": 0.0, \"failureMessage\": \"\", \"exceptionClass\": \"\", \"trace\": \"\", \"outcomeType\": 4}}, \"*\")"
      ],
      "text/plain": [
       "<IPython.core.display.Javascript object>"
      ]
     },
     "metadata": {},
     "output_type": "display_data"
    },
    {
     "data": {
      "text/markdown": [
       "<span style=\"color:#33cc99\">Solution:</span> We'll begin with the regression line for chocolate candies. Since this line has a slightly positive slope, we can say that more expensive chocolate candies tend to be more popular (than relatively cheaper chocolate candies).  Likewise, since the regression line for candies without chocolate has a negative slope, we can say that if candies don't contain chocolate, they tend to be more popular when they are cheaper.  One important note, however, is that the dataset is quite small -- so we shouldn't invest too much trust in these patterns!  To inspire more confidence in the results, we should add more candies to the dataset."
      ],
      "text/plain": [
       "Solution: We'll begin with the regression line for chocolate candies. Since this line has a slightly positive slope, we can say that more expensive chocolate candies tend to be more popular (than relatively cheaper chocolate candies).  Likewise, since the regression line for candies without chocolate has a negative slope, we can say that if candies don't contain chocolate, they tend to be more popular when they are cheaper.  One important note, however, is that the dataset is quite small -- so we shouldn't invest too much trust in these patterns!  To inspire more confidence in the results, we should add more candies to the dataset."
      ]
     },
     "metadata": {},
     "output_type": "display_data"
    }
   ],
   "source": [
    "# Check your answer (Run this code cell to receive credit!)\n",
    "step_6.b.solution()"
   ]
  },
  {
   "cell_type": "markdown",
   "id": "b9b2c78e",
   "metadata": {
    "papermill": {
     "duration": 0.013984,
     "end_time": "2022-12-28T14:40:06.286569",
     "exception": false,
     "start_time": "2022-12-28T14:40:06.272585",
     "status": "completed"
    },
    "tags": []
   },
   "source": [
    "## Step 7: Everybody loves chocolate.\n",
    "\n",
    "#### Part A\n",
    "\n",
    "Create a categorical scatter plot to highlight the relationship between `'chocolate'` and `'winpercent'`.  Put `'chocolate'` on the (horizontal) x-axis, and `'winpercent'` on the (vertical) y-axis."
   ]
  },
  {
   "cell_type": "code",
   "execution_count": 24,
   "id": "c47cd05f",
   "metadata": {
    "execution": {
     "iopub.execute_input": "2022-12-28T14:40:06.316206Z",
     "iopub.status.busy": "2022-12-28T14:40:06.315814Z",
     "iopub.status.idle": "2022-12-28T14:40:06.537751Z",
     "shell.execute_reply": "2022-12-28T14:40:06.536493Z"
    },
    "papermill": {
     "duration": 0.239846,
     "end_time": "2022-12-28T14:40:06.540441",
     "exception": false,
     "start_time": "2022-12-28T14:40:06.300595",
     "status": "completed"
    },
    "tags": []
   },
   "outputs": [
    {
     "data": {
      "application/javascript": [
       "parent.postMessage({\"jupyterEvent\": \"custom.exercise_interaction\", \"data\": {\"outcomeType\": 1, \"valueTowardsCompletion\": 0.3333333333333333, \"interactionType\": 1, \"questionType\": 2, \"questionId\": \"7.1_PlotSwarm\", \"learnToolsVersion\": \"0.3.4\", \"failureMessage\": \"\", \"exceptionClass\": \"\", \"trace\": \"\"}}, \"*\")"
      ],
      "text/plain": [
       "<IPython.core.display.Javascript object>"
      ]
     },
     "metadata": {},
     "output_type": "display_data"
    },
    {
     "data": {
      "text/markdown": [
       "<span style=\"color:#33cc33\">Correct</span>"
      ],
      "text/plain": [
       "Correct"
      ]
     },
     "metadata": {},
     "output_type": "display_data"
    },
    {
     "data": {
      "image/png": "[encoded data removed]",
      "text/plain": [
       "<Figure size 432x288 with 1 Axes>"
      ]
     },
     "metadata": {
      "needs_background": "light"
     },
     "output_type": "display_data"
    }
   ],
   "source": [
    "# Scatter plot showing the relationship between 'chocolate' and 'winpercent'\n",
    "# Your code here\n",
    "sns.swarmplot(x = 'chocolate', y = 'winpercent', data = candy_data)\n",
    "\n",
    "\n",
    "# Check your answer\n",
    "step_7.a.check()"
   ]
  },
  {
   "cell_type": "code",
   "execution_count": 25,
   "id": "c080ec5d",
   "metadata": {
    "execution": {
     "iopub.execute_input": "2022-12-28T14:40:06.572923Z",
     "iopub.status.busy": "2022-12-28T14:40:06.572469Z",
     "iopub.status.idle": "2022-12-28T14:40:06.577466Z",
     "shell.execute_reply": "2022-12-28T14:40:06.576275Z"
    },
    "papermill": {
     "duration": 0.023895,
     "end_time": "2022-12-28T14:40:06.579669",
     "exception": false,
     "start_time": "2022-12-28T14:40:06.555774",
     "status": "completed"
    },
    "tags": []
   },
   "outputs": [],
   "source": [
    "# Lines below will give you a hint or solution code\n",
    "#step_7.a.hint()\n",
    "#step_7.a.solution_plot()"
   ]
  },
  {
   "cell_type": "markdown",
   "id": "d1a210cd",
   "metadata": {
    "papermill": {
     "duration": 0.014468,
     "end_time": "2022-12-28T14:40:06.608967",
     "exception": false,
     "start_time": "2022-12-28T14:40:06.594499",
     "status": "completed"
    },
    "tags": []
   },
   "source": [
    "#### Part B\n",
    "\n",
    "You decide to dedicate a section of your report to the fact that chocolate candies tend to be more popular than candies without chocolate.  Which plot is more appropriate to tell this story: the plot from **Step 6**, or the plot from **Step 7**?"
   ]
  },
  {
   "cell_type": "code",
   "execution_count": 26,
   "id": "d659fce2",
   "metadata": {
    "execution": {
     "iopub.execute_input": "2022-12-28T14:40:06.641228Z",
     "iopub.status.busy": "2022-12-28T14:40:06.640440Z",
     "iopub.status.idle": "2022-12-28T14:40:06.644977Z",
     "shell.execute_reply": "2022-12-28T14:40:06.643940Z"
    },
    "papermill": {
     "duration": 0.02318,
     "end_time": "2022-12-28T14:40:06.646984",
     "exception": false,
     "start_time": "2022-12-28T14:40:06.623804",
     "status": "completed"
    },
    "tags": []
   },
   "outputs": [],
   "source": [
    "#step_7.b.hint()"
   ]
  },
  {
   "cell_type": "code",
   "execution_count": 27,
   "id": "3cb1ec5a",
   "metadata": {
    "execution": {
     "iopub.execute_input": "2022-12-28T14:40:06.679083Z",
     "iopub.status.busy": "2022-12-28T14:40:06.678610Z",
     "iopub.status.idle": "2022-12-28T14:40:06.687565Z",
     "shell.execute_reply": "2022-12-28T14:40:06.686429Z"
    },
    "papermill": {
     "duration": 0.027759,
     "end_time": "2022-12-28T14:40:06.689624",
     "exception": false,
     "start_time": "2022-12-28T14:40:06.661865",
     "status": "completed"
    },
    "tags": []
   },
   "outputs": [
    {
     "data": {
      "application/javascript": [
       "parent.postMessage({\"jupyterEvent\": \"custom.exercise_interaction\", \"data\": {\"interactionType\": 3, \"questionType\": 4, \"questionId\": \"7.2_ThinkSwarm\", \"learnToolsVersion\": \"0.3.4\", \"valueTowardsCompletion\": 0.0, \"failureMessage\": \"\", \"exceptionClass\": \"\", \"trace\": \"\", \"outcomeType\": 4}}, \"*\")"
      ],
      "text/plain": [
       "<IPython.core.display.Javascript object>"
      ]
     },
     "metadata": {},
     "output_type": "display_data"
    },
    {
     "data": {
      "text/markdown": [
       "<span style=\"color:#33cc99\">Solution:</span> In this case, the categorical scatter plot from **Step 7** is the more appropriate plot. While both plots tell the desired story, the plot from **Step 6** conveys far more information that could distract from the main point."
      ],
      "text/plain": [
       "Solution: In this case, the categorical scatter plot from **Step 7** is the more appropriate plot. While both plots tell the desired story, the plot from **Step 6** conveys far more information that could distract from the main point."
      ]
     },
     "metadata": {},
     "output_type": "display_data"
    }
   ],
   "source": [
    "# Check your answer (Run this code cell to receive credit!)\n",
    "step_7.b.solution()"
   ]
  },
  {
   "cell_type": "markdown",
   "id": "1b113d50",
   "metadata": {
    "papermill": {
     "duration": 0.014903,
     "end_time": "2022-12-28T14:40:06.719919",
     "exception": false,
     "start_time": "2022-12-28T14:40:06.705016",
     "status": "completed"
    },
    "tags": []
   },
   "source": [
    "## Keep going\n",
    "\n",
    "Explore **[histograms and density plots](https://www.kaggle.com/alexisbcook/distributions)**."
   ]
  },
  {
   "cell_type": "markdown",
   "id": "37fcb3ed",
   "metadata": {
    "papermill": {
     "duration": 0.014966,
     "end_time": "2022-12-28T14:40:06.750334",
     "exception": false,
     "start_time": "2022-12-28T14:40:06.735368",
     "status": "completed"
    },
    "tags": []
   },
   "source": [
    "---\n",
    "\n",
    "\n",
    "\n",
    "\n",
    "*Have questions or comments? Visit the [course discussion forum](https://www.kaggle.com/learn/data-visualization/discussion) to chat with other learners.*"
   ]
  }
 ],
 "metadata": {
  "kernelspec": {
   "display_name": "Python 3",
   "language": "python",
   "name": "python3"
  },
  "language_info": {
   "codemirror_mode": {
    "name": "ipython",
    "version": 3
   },
   "file_extension": ".py",
   "mimetype": "text/x-python",
   "name": "python",
   "nbconvert_exporter": "python",
   "pygments_lexer": "ipython3",
   "version": "3.7.12"
  },
  "papermill": {
   "default_parameters": {},
   "duration": 13.843329,
   "end_time": "2022-12-28T14:40:07.589372",
   "environment_variables": {},
   "exception": null,
   "input_path": "__notebook__.ipynb",
   "output_path": "__notebook__.ipynb",
   "parameters": {},
   "start_time": "2022-12-28T14:39:53.746043",
   "version": "2.3.4"
  }
 },
 "nbformat": 4,
 "nbformat_minor": 5
}
