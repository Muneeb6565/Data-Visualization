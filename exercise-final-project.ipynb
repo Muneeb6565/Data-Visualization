{
 "cells": [
  {
   "cell_type": "markdown",
   "id": "adecf7b0",
   "metadata": {
    "papermill": {
     "duration": 0.006808,
     "end_time": "2022-12-28T17:57:48.795972",
     "exception": false,
     "start_time": "2022-12-28T17:57:48.789164",
     "status": "completed"
    },
    "tags": []
   },
   "source": [
    "**This notebook is an exercise in the [Data Visualization](https://www.kaggle.com/learn/data-visualization) course.  You can reference the tutorial at [this link](https://www.kaggle.com/alexisbcook/final-project).**\n",
    "\n",
    "---\n"
   ]
  },
  {
   "cell_type": "markdown",
   "id": "e388cfe0",
   "metadata": {
    "papermill": {
     "duration": 0.005928,
     "end_time": "2022-12-28T17:57:48.807224",
     "exception": false,
     "start_time": "2022-12-28T17:57:48.801296",
     "status": "completed"
    },
    "tags": []
   },
   "source": [
    "Now it's time for you to demonstrate your new skills with a project of your own!\n",
    "\n",
    "In this exercise, you will work with a dataset of your choosing.  Once you've selected a dataset, you'll design and create your own plot to tell interesting stories behind the data!\n",
    "\n",
    "## Setup\n",
    "\n",
    "Run the next cell to import and configure the Python libraries that you need to complete the exercise."
   ]
  },
  {
   "cell_type": "code",
   "execution_count": 1,
   "id": "239f1196",
   "metadata": {
    "execution": {
     "iopub.execute_input": "2022-12-28T17:57:48.823433Z",
     "iopub.status.busy": "2022-12-28T17:57:48.822295Z",
     "iopub.status.idle": "2022-12-28T17:57:50.045493Z",
     "shell.execute_reply": "2022-12-28T17:57:50.042091Z"
    },
    "papermill": {
     "duration": 1.23522,
     "end_time": "2022-12-28T17:57:50.048798",
     "exception": false,
     "start_time": "2022-12-28T17:57:48.813578",
     "status": "completed"
    },
    "tags": []
   },
   "outputs": [
    {
     "name": "stdout",
     "output_type": "stream",
     "text": [
      "Setup Complete\n"
     ]
    }
   ],
   "source": [
    "import pandas as pd\n",
    "pd.plotting.register_matplotlib_converters()\n",
    "import matplotlib.pyplot as plt\n",
    "%matplotlib inline\n",
    "import seaborn as sns\n",
    "print(\"Setup Complete\")"
   ]
  },
  {
   "cell_type": "markdown",
   "id": "6c3fa23f",
   "metadata": {
    "papermill": {
     "duration": 0.003993,
     "end_time": "2022-12-28T17:57:50.057465",
     "exception": false,
     "start_time": "2022-12-28T17:57:50.053472",
     "status": "completed"
    },
    "tags": []
   },
   "source": [
    "The questions below will give you feedback on your work. Run the following cell to set up the feedback system."
   ]
  },
  {
   "cell_type": "code",
   "execution_count": 2,
   "id": "8d28191f",
   "metadata": {
    "execution": {
     "iopub.execute_input": "2022-12-28T17:57:50.068637Z",
     "iopub.status.busy": "2022-12-28T17:57:50.068176Z",
     "iopub.status.idle": "2022-12-28T17:57:50.116117Z",
     "shell.execute_reply": "2022-12-28T17:57:50.114993Z"
    },
    "papermill": {
     "duration": 0.056934,
     "end_time": "2022-12-28T17:57:50.118748",
     "exception": false,
     "start_time": "2022-12-28T17:57:50.061814",
     "status": "completed"
    },
    "tags": []
   },
   "outputs": [
    {
     "name": "stdout",
     "output_type": "stream",
     "text": [
      "Setup Complete\n"
     ]
    }
   ],
   "source": [
    "# Set up code checking\n",
    "from learntools.core import binder\n",
    "binder.bind(globals())\n",
    "from learntools.data_viz_to_coder.ex7 import *\n",
    "print(\"Setup Complete\")"
   ]
  },
  {
   "cell_type": "markdown",
   "id": "b00c9441",
   "metadata": {
    "papermill": {
     "duration": 0.004214,
     "end_time": "2022-12-28T17:57:50.127837",
     "exception": false,
     "start_time": "2022-12-28T17:57:50.123623",
     "status": "completed"
    },
    "tags": []
   },
   "source": [
    "## Step 1: Attach a dataset to the notebook\n",
    "\n",
    "Begin by selecting a CSV dataset from [Kaggle Datasets](https://www.kaggle.com/datasets).  If you're unsure how to do this, please revisit the instructions in the previous tutorial.\n",
    "\n",
    "Once you have selected a dataset, click on the **[+ Add data]** option in the top right corner.  This will generate a pop-up window that you can use to search for your chosen dataset.  \n",
    "\n",
    "![ex6_search_dataset](https://i.imgur.com/cIIWPUS.png)\n",
    "\n",
    "Once you have found the dataset, click on the **[Add]** button to attach it to the notebook.  You can check that it was successful by looking at the **Data** dropdown menu to the right of the notebook -- look for an **input** folder containing a subfolder that matches the name of the dataset.\n",
    "\n",
    "<center>\n",
    "<img src=\"https://i.imgur.com/nMYc1Nu.png\" width=30%><br/>\n",
    "</center>\n",
    "\n",
    "You can click on the carat to the left of the name of the dataset to double-check that it contains a CSV file.  For instance, the image below shows that the example dataset contains two CSV files: (1) **dc-wikia-data.csv**, and (2) **marvel-wikia-data.csv**.\n",
    "\n",
    "<center>\n",
    "<img src=\"https://i.imgur.com/B4sJkVA.png\" width=30%><br/>\n",
    "</center>\n",
    "\n",
    "Once you've uploaded a dataset with a CSV file, run the code cell below **without changes** to receive credit for your work!"
   ]
  },
  {
   "cell_type": "code",
   "execution_count": 3,
   "id": "1d31c066",
   "metadata": {
    "execution": {
     "iopub.execute_input": "2022-12-28T17:57:50.139212Z",
     "iopub.status.busy": "2022-12-28T17:57:50.138531Z",
     "iopub.status.idle": "2022-12-28T17:57:50.154707Z",
     "shell.execute_reply": "2022-12-28T17:57:50.153429Z"
    },
    "papermill": {
     "duration": 0.025449,
     "end_time": "2022-12-28T17:57:50.157808",
     "exception": false,
     "start_time": "2022-12-28T17:57:50.132359",
     "status": "completed"
    },
    "tags": []
   },
   "outputs": [
    {
     "data": {
      "application/javascript": [
       "parent.postMessage({\"jupyterEvent\": \"custom.exercise_interaction\", \"data\": {\"outcomeType\": 1, \"valueTowardsCompletion\": 0.25, \"interactionType\": 1, \"questionType\": 2, \"questionId\": \"1_AttachData\", \"learnToolsVersion\": \"0.3.4\", \"failureMessage\": \"\", \"exceptionClass\": \"\", \"trace\": \"\"}}, \"*\")"
      ],
      "text/plain": [
       "<IPython.core.display.Javascript object>"
      ]
     },
     "metadata": {},
     "output_type": "display_data"
    },
    {
     "data": {
      "text/markdown": [
       "<span style=\"color:#33cc33\">Correct:</span> \n",
       "\n"
      ],
      "text/plain": [
       "Correct: \n"
      ]
     },
     "metadata": {},
     "output_type": "display_data"
    }
   ],
   "source": [
    "# Check for a dataset with a CSV file\n",
    "step_1.check()"
   ]
  },
  {
   "cell_type": "markdown",
   "id": "b5aff198",
   "metadata": {
    "papermill": {
     "duration": 0.004528,
     "end_time": "2022-12-28T17:57:50.167998",
     "exception": false,
     "start_time": "2022-12-28T17:57:50.163470",
     "status": "completed"
    },
    "tags": []
   },
   "source": [
    "## Step 2: Specify the filepath\n",
    "\n",
    "Now that the dataset is attached to the notebook, you can find its filepath.  To do this, begin by clicking on the CSV file you'd like to use.  This will open the CSV file in a tab below the notebook.  You can find the filepath towards the top of this new tab.  \n",
    "\n",
    "![ex6_filepath](https://i.imgur.com/fgXQV47.png)\n",
    "\n",
    "After you find the filepath corresponding to your dataset, fill it in as the value for `my_filepath` in the code cell below, and run the code cell to check that you've provided a valid filepath.  For instance, in the case of this example dataset, we would set\n",
    "```\n",
    "my_filepath = \"../input/fivethirtyeight-comic-characters-dataset/dc-wikia-data.csv\"\n",
    "```  \n",
    "Note that **you must enclose the filepath in quotation marks**; otherwise, the code will return an error.\n",
    "\n",
    "Once you've entered the filepath, you can close the tab below the notebook by clicking on the **[X]** at the top of the tab."
   ]
  },
  {
   "cell_type": "code",
   "execution_count": 4,
   "id": "e853a147",
   "metadata": {
    "execution": {
     "iopub.execute_input": "2022-12-28T17:57:50.179893Z",
     "iopub.status.busy": "2022-12-28T17:57:50.179162Z",
     "iopub.status.idle": "2022-12-28T17:57:50.188718Z",
     "shell.execute_reply": "2022-12-28T17:57:50.187664Z"
    },
    "papermill": {
     "duration": 0.018089,
     "end_time": "2022-12-28T17:57:50.190894",
     "exception": false,
     "start_time": "2022-12-28T17:57:50.172805",
     "status": "completed"
    },
    "tags": []
   },
   "outputs": [
    {
     "data": {
      "application/javascript": [
       "parent.postMessage({\"jupyterEvent\": \"custom.exercise_interaction\", \"data\": {\"outcomeType\": 1, \"valueTowardsCompletion\": 0.25, \"interactionType\": 1, \"questionType\": 2, \"questionId\": \"2_Filepath\", \"learnToolsVersion\": \"0.3.4\", \"failureMessage\": \"\", \"exceptionClass\": \"\", \"trace\": \"\"}}, \"*\")"
      ],
      "text/plain": [
       "<IPython.core.display.Javascript object>"
      ]
     },
     "metadata": {},
     "output_type": "display_data"
    },
    {
     "data": {
      "text/markdown": [
       "<span style=\"color:#33cc33\">Correct:</span> \n",
       "\n"
      ],
      "text/plain": [
       "Correct: \n"
      ]
     },
     "metadata": {},
     "output_type": "display_data"
    }
   ],
   "source": [
    "# Fill in the line below: Specify the path of the CSV file to read\n",
    "my_filepath =  \"../input/fivethirtyeight-comic-characters-dataset/dc-wikia-data.csv\"\n",
    "# Check for a valid filepath to a CSV file in a dataset\n",
    "step_2.check()"
   ]
  },
  {
   "cell_type": "markdown",
   "id": "c9e420a4",
   "metadata": {
    "papermill": {
     "duration": 0.004449,
     "end_time": "2022-12-28T17:57:50.200198",
     "exception": false,
     "start_time": "2022-12-28T17:57:50.195749",
     "status": "completed"
    },
    "tags": []
   },
   "source": [
    "## Step 3: Load the data\n",
    "\n",
    "Use the next code cell to load your data file into `my_data`.  Use the filepath that you specified in the previous step."
   ]
  },
  {
   "cell_type": "code",
   "execution_count": 5,
   "id": "a8ba18ce",
   "metadata": {
    "execution": {
     "iopub.execute_input": "2022-12-28T17:57:50.212787Z",
     "iopub.status.busy": "2022-12-28T17:57:50.212071Z",
     "iopub.status.idle": "2022-12-28T17:57:50.285103Z",
     "shell.execute_reply": "2022-12-28T17:57:50.283765Z"
    },
    "papermill": {
     "duration": 0.083793,
     "end_time": "2022-12-28T17:57:50.288709",
     "exception": false,
     "start_time": "2022-12-28T17:57:50.204916",
     "status": "completed"
    },
    "tags": []
   },
   "outputs": [
    {
     "data": {
      "application/javascript": [
       "parent.postMessage({\"jupyterEvent\": \"custom.exercise_interaction\", \"data\": {\"outcomeType\": 1, \"valueTowardsCompletion\": 0.25, \"interactionType\": 1, \"questionType\": 2, \"questionId\": \"3_LoadData\", \"learnToolsVersion\": \"0.3.4\", \"failureMessage\": \"\", \"exceptionClass\": \"\", \"trace\": \"\"}}, \"*\")"
      ],
      "text/plain": [
       "<IPython.core.display.Javascript object>"
      ]
     },
     "metadata": {},
     "output_type": "display_data"
    },
    {
     "data": {
      "text/markdown": [
       "<span style=\"color:#33cc33\">Correct:</span> \n",
       "\n"
      ],
      "text/plain": [
       "Correct: \n"
      ]
     },
     "metadata": {},
     "output_type": "display_data"
    }
   ],
   "source": [
    "# Fill in the line below: Read the file into a variable my_data\n",
    "my_data = pd.read_csv(my_filepath)\n",
    "\n",
    "# Check that a dataset has been uploaded into my_data\n",
    "step_3.check()"
   ]
  },
  {
   "cell_type": "markdown",
   "id": "789285e1",
   "metadata": {
    "papermill": {
     "duration": 0.00486,
     "end_time": "2022-12-28T17:57:50.299793",
     "exception": false,
     "start_time": "2022-12-28T17:57:50.294933",
     "status": "completed"
    },
    "tags": []
   },
   "source": [
    "**_After the code cell above is marked correct_**, run the code cell below without changes to view the first five rows of the data."
   ]
  },
  {
   "cell_type": "code",
   "execution_count": 6,
   "id": "b03643f3",
   "metadata": {
    "execution": {
     "iopub.execute_input": "2022-12-28T17:57:50.314326Z",
     "iopub.status.busy": "2022-12-28T17:57:50.313500Z",
     "iopub.status.idle": "2022-12-28T17:57:50.349035Z",
     "shell.execute_reply": "2022-12-28T17:57:50.348123Z"
    },
    "papermill": {
     "duration": 0.045722,
     "end_time": "2022-12-28T17:57:50.351999",
     "exception": false,
     "start_time": "2022-12-28T17:57:50.306277",
     "status": "completed"
    },
    "tags": []
   },
   "outputs": [
    {
     "data": {
      "text/html": [
       "<div>\n",
       "<style scoped>\n",
       "    .dataframe tbody tr th:only-of-type {\n",
       "        vertical-align: middle;\n",
       "    }\n",
       "\n",
       "    .dataframe tbody tr th {\n",
       "        vertical-align: top;\n",
       "    }\n",
       "\n",
       "    .dataframe thead th {\n",
       "        text-align: right;\n",
       "    }\n",
       "</style>\n",
       "<table border=\"1\" class=\"dataframe\">\n",
       "  <thead>\n",
       "    <tr style=\"text-align: right;\">\n",
       "      <th></th>\n",
       "      <th>page_id</th>\n",
       "      <th>name</th>\n",
       "      <th>urlslug</th>\n",
       "      <th>ID</th>\n",
       "      <th>ALIGN</th>\n",
       "      <th>EYE</th>\n",
       "      <th>HAIR</th>\n",
       "      <th>SEX</th>\n",
       "      <th>GSM</th>\n",
       "      <th>ALIVE</th>\n",
       "      <th>APPEARANCES</th>\n",
       "      <th>FIRST APPEARANCE</th>\n",
       "      <th>YEAR</th>\n",
       "    </tr>\n",
       "  </thead>\n",
       "  <tbody>\n",
       "    <tr>\n",
       "      <th>3520</th>\n",
       "      <td>38500</td>\n",
       "      <td>Head, of the Waiting (New Earth)</td>\n",
       "      <td>\\/wiki\\/Head,_of_the_Waiting_(New_Earth)</td>\n",
       "      <td>Secret Identity</td>\n",
       "      <td>NaN</td>\n",
       "      <td>Green Eyes</td>\n",
       "      <td>NaN</td>\n",
       "      <td>Male Characters</td>\n",
       "      <td>NaN</td>\n",
       "      <td>Living Characters</td>\n",
       "      <td>5.0</td>\n",
       "      <td>2006, August</td>\n",
       "      <td>2006.0</td>\n",
       "    </tr>\n",
       "    <tr>\n",
       "      <th>2601</th>\n",
       "      <td>262022</td>\n",
       "      <td>Khaji Kai (Prime Earth)</td>\n",
       "      <td>\\/wiki\\/Khaji_Kai_(Prime_Earth)</td>\n",
       "      <td>Public Identity</td>\n",
       "      <td>Bad Characters</td>\n",
       "      <td>NaN</td>\n",
       "      <td>NaN</td>\n",
       "      <td>Male Characters</td>\n",
       "      <td>NaN</td>\n",
       "      <td>Living Characters</td>\n",
       "      <td>8.0</td>\n",
       "      <td>2011, November</td>\n",
       "      <td>2011.0</td>\n",
       "    </tr>\n",
       "    <tr>\n",
       "      <th>6149</th>\n",
       "      <td>83096</td>\n",
       "      <td>Perry Dennison (New Earth)</td>\n",
       "      <td>\\/wiki\\/Perry_Dennison_(New_Earth)</td>\n",
       "      <td>Secret Identity</td>\n",
       "      <td>Bad Characters</td>\n",
       "      <td>Black Eyes</td>\n",
       "      <td>Black Hair</td>\n",
       "      <td>Male Characters</td>\n",
       "      <td>NaN</td>\n",
       "      <td>Living Characters</td>\n",
       "      <td>1.0</td>\n",
       "      <td>1993</td>\n",
       "      <td>1993.0</td>\n",
       "    </tr>\n",
       "    <tr>\n",
       "      <th>4179</th>\n",
       "      <td>4728</td>\n",
       "      <td>Fidel Castro (New Earth)</td>\n",
       "      <td>\\/wiki\\/Fidel_Castro_(New_Earth)</td>\n",
       "      <td>NaN</td>\n",
       "      <td>NaN</td>\n",
       "      <td>NaN</td>\n",
       "      <td>NaN</td>\n",
       "      <td>Male Characters</td>\n",
       "      <td>NaN</td>\n",
       "      <td>Living Characters</td>\n",
       "      <td>4.0</td>\n",
       "      <td>1988, Holiday</td>\n",
       "      <td>1988.0</td>\n",
       "    </tr>\n",
       "    <tr>\n",
       "      <th>1807</th>\n",
       "      <td>135958</td>\n",
       "      <td>Woodson Hex (New Earth)</td>\n",
       "      <td>\\/wiki\\/Woodson_Hex_(New_Earth)</td>\n",
       "      <td>NaN</td>\n",
       "      <td>Bad Characters</td>\n",
       "      <td>NaN</td>\n",
       "      <td>White Hair</td>\n",
       "      <td>Male Characters</td>\n",
       "      <td>NaN</td>\n",
       "      <td>Deceased Characters</td>\n",
       "      <td>14.0</td>\n",
       "      <td>1977, December</td>\n",
       "      <td>1977.0</td>\n",
       "    </tr>\n",
       "  </tbody>\n",
       "</table>\n",
       "</div>"
      ],
      "text/plain": [
       "      page_id                              name  \\\n",
       "3520    38500  Head, of the Waiting (New Earth)   \n",
       "2601   262022           Khaji Kai (Prime Earth)   \n",
       "6149    83096        Perry Dennison (New Earth)   \n",
       "4179     4728          Fidel Castro (New Earth)   \n",
       "1807   135958           Woodson Hex (New Earth)   \n",
       "\n",
       "                                       urlslug               ID  \\\n",
       "3520  \\/wiki\\/Head,_of_the_Waiting_(New_Earth)  Secret Identity   \n",
       "2601           \\/wiki\\/Khaji_Kai_(Prime_Earth)  Public Identity   \n",
       "6149        \\/wiki\\/Perry_Dennison_(New_Earth)  Secret Identity   \n",
       "4179          \\/wiki\\/Fidel_Castro_(New_Earth)              NaN   \n",
       "1807           \\/wiki\\/Woodson_Hex_(New_Earth)              NaN   \n",
       "\n",
       "               ALIGN         EYE        HAIR              SEX  GSM  \\\n",
       "3520             NaN  Green Eyes         NaN  Male Characters  NaN   \n",
       "2601  Bad Characters         NaN         NaN  Male Characters  NaN   \n",
       "6149  Bad Characters  Black Eyes  Black Hair  Male Characters  NaN   \n",
       "4179             NaN         NaN         NaN  Male Characters  NaN   \n",
       "1807  Bad Characters         NaN  White Hair  Male Characters  NaN   \n",
       "\n",
       "                    ALIVE  APPEARANCES FIRST APPEARANCE    YEAR  \n",
       "3520    Living Characters          5.0     2006, August  2006.0  \n",
       "2601    Living Characters          8.0   2011, November  2011.0  \n",
       "6149    Living Characters          1.0             1993  1993.0  \n",
       "4179    Living Characters          4.0    1988, Holiday  1988.0  \n",
       "1807  Deceased Characters         14.0   1977, December  1977.0  "
      ]
     },
     "execution_count": 6,
     "metadata": {},
     "output_type": "execute_result"
    }
   ],
   "source": [
    "# Print the first five rows of the data\n",
    "my_data.sample(5)"
   ]
  },
  {
   "cell_type": "code",
   "execution_count": 7,
   "id": "ee8a6184",
   "metadata": {
    "execution": {
     "iopub.execute_input": "2022-12-28T17:57:50.365538Z",
     "iopub.status.busy": "2022-12-28T17:57:50.364762Z",
     "iopub.status.idle": "2022-12-28T17:58:32.229062Z",
     "shell.execute_reply": "2022-12-28T17:58:32.227331Z"
    },
    "papermill": {
     "duration": 41.873876,
     "end_time": "2022-12-28T17:58:32.232024",
     "exception": false,
     "start_time": "2022-12-28T17:57:50.358148",
     "status": "completed"
    },
    "tags": []
   },
   "outputs": [
    {
     "name": "stderr",
     "output_type": "stream",
     "text": [
      "/opt/conda/lib/python3.7/site-packages/seaborn/categorical.py:1296: UserWarning: 91.8% of the points cannot be placed; you may want to decrease the size of the markers or use stripplot.\n",
      "  warnings.warn(msg, UserWarning)\n",
      "/opt/conda/lib/python3.7/site-packages/seaborn/categorical.py:1296: UserWarning: 84.2% of the points cannot be placed; you may want to decrease the size of the markers or use stripplot.\n",
      "  warnings.warn(msg, UserWarning)\n"
     ]
    },
    {
     "data": {
      "application/javascript": [
       "parent.postMessage({\"jupyterEvent\": \"custom.exercise_interaction\", \"data\": {\"outcomeType\": 1, \"valueTowardsCompletion\": 0.25, \"interactionType\": 1, \"questionType\": 2, \"questionId\": \"4_CreatePlot\", \"learnToolsVersion\": \"0.3.4\", \"failureMessage\": \"\", \"exceptionClass\": \"\", \"trace\": \"\"}}, \"*\")"
      ],
      "text/plain": [
       "<IPython.core.display.Javascript object>"
      ]
     },
     "metadata": {},
     "output_type": "display_data"
    },
    {
     "data": {
      "text/markdown": [
       "<span style=\"color:#33cc33\">Correct:</span> \n",
       "\n"
      ],
      "text/plain": [
       "Correct: \n"
      ]
     },
     "metadata": {},
     "output_type": "display_data"
    },
    {
     "data": {
      "image/png": "[encoded data removed]",
      "text/plain": [
       "<Figure size 432x288 with 1 Axes>"
      ]
     },
     "metadata": {
      "needs_background": "light"
     },
     "output_type": "display_data"
    }
   ],
   "source": [
    "# Create a plot\n",
    "sns.swarmplot(data = my_data, x= 'YEAR', y= 'SEX')\n",
    "\n",
    "# Check that a figure appears below\n",
    "step_4.check()"
   ]
  },
  {
   "cell_type": "markdown",
   "id": "ca2b78c9",
   "metadata": {
    "papermill": {
     "duration": 0.006523,
     "end_time": "2022-12-28T17:58:32.245601",
     "exception": false,
     "start_time": "2022-12-28T17:58:32.239078",
     "status": "completed"
    },
    "tags": []
   },
   "source": [
    "## Keep going\n",
    "\n",
    "Learn how to use your skills after completing the micro-course to create data visualizations in a **[final tutorial](https://www.kaggle.com/alexisbcook/creating-your-own-notebooks)**."
   ]
  },
  {
   "cell_type": "markdown",
   "id": "7aa27fa4",
   "metadata": {
    "papermill": {
     "duration": 0.00644,
     "end_time": "2022-12-28T17:58:32.258998",
     "exception": false,
     "start_time": "2022-12-28T17:58:32.252558",
     "status": "completed"
    },
    "tags": []
   },
   "source": [
    "---\n",
    "\n",
    "\n",
    "\n",
    "\n",
    "*Have questions or comments? Visit the [course discussion forum](https://www.kaggle.com/learn/data-visualization/discussion) to chat with other learners.*"
   ]
  }
 ],
 "metadata": {
  "kernelspec": {
   "display_name": "Python 3",
   "language": "python",
   "name": "python3"
  },
  "language_info": {
   "codemirror_mode": {
    "name": "ipython",
    "version": 3
   },
   "file_extension": ".py",
   "mimetype": "text/x-python",
   "name": "python",
   "nbconvert_exporter": "python",
   "pygments_lexer": "ipython3",
   "version": "3.7.12"
  },
  "papermill": {
   "default_parameters": {},
   "duration": 53.700772,
   "end_time": "2022-12-28T17:58:33.091743",
   "environment_variables": {},
   "exception": null,
   "input_path": "__notebook__.ipynb",
   "output_path": "__notebook__.ipynb",
   "parameters": {},
   "start_time": "2022-12-28T17:57:39.390971",
   "version": "2.3.4"
  }
 },
 "nbformat": 4,
 "nbformat_minor": 5
}
